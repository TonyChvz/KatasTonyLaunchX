{
 "cells": [
  {
   "cell_type": "markdown",
   "metadata": {},
   "source": [
    "# Operaciones Matematicas\n",
    "## Ejercicio 1"
   ]
  },
  {
   "cell_type": "code",
   "execution_count": 9,
   "metadata": {},
   "outputs": [
    {
     "name": "stdout",
     "output_type": "stream",
     "text": [
      "Distance between earth and jupyter is 629049330km or 390639633.93mi\n"
     ]
    }
   ],
   "source": [
    "earth = 149497870\n",
    "jupyter = 778547200\n",
    "\n",
    "distance = jupyter - earth\n",
    "print(f'Distance between earth and jupyter is {distance}km or {distance*0.621}mi')"
   ]
  },
  {
   "cell_type": "markdown",
   "metadata": {},
   "source": [
    "## Ejercicio 2"
   ]
  },
  {
   "cell_type": "code",
   "execution_count": 11,
   "metadata": {},
   "outputs": [
    {
     "name": "stdout",
     "output_type": "stream",
     "text": [
      "Distance between 2 planets is 4437200000km or 2755501200.0mi\n"
     ]
    }
   ],
   "source": [
    "planet_1 = input('Distance from sun of the first planet')\n",
    "planet_2 = input('Distance from sun of the second planet')\n",
    "planet_1 = int(planet_1)\n",
    "planet_2 = int(planet_2)\n",
    "\n",
    "distance = abs(planet_2 - planet_1)\n",
    "print(f'Distance between 2 planets is {distance}km or {distance*0.621}mi')"
   ]
  }
 ],
 "metadata": {
  "interpreter": {
   "hash": "5edb671e759554df7f96762afdd7f07c45c043ee4d5579df1f29853d82b4c0f5"
  },
  "kernelspec": {
   "display_name": "Python 3.10.2 64-bit (windows store)",
   "language": "python",
   "name": "python3"
  },
  "language_info": {
   "codemirror_mode": {
    "name": "ipython",
    "version": 3
   },
   "file_extension": ".py",
   "mimetype": "text/x-python",
   "name": "python",
   "nbconvert_exporter": "python",
   "pygments_lexer": "ipython3",
   "version": "3.10.2"
  },
  "orig_nbformat": 4
 },
 "nbformat": 4,
 "nbformat_minor": 2
}
