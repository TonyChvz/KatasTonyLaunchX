{
 "cells": [
  {
   "cell_type": "markdown",
   "metadata": {},
   "source": [
    "## Primer problema"
   ]
  },
  {
   "cell_type": "markdown",
   "metadata": {},
   "source": [
    "# El texto a trabajar:\n",
    "Interesting facts about the Moon. The Moon is Earth's only satellite. There are several interesting facts about the Moon and how it affects life here on Earth. \n",
    "\n",
    "On average, the Moon moves 4cm away from the Earth every year. This yearly drift is not significant enough to cause immediate effects on Earth. The highest daylight temperature of the Moon is 127 C."
   ]
  },
  {
   "cell_type": "code",
   "execution_count": 7,
   "metadata": {},
   "outputs": [
    {
     "name": "stdout",
     "output_type": "stream",
     "text": [
      "\n",
      "On average, the Moon moves 4cm away from the Earth every year\n",
      "The highest daylight temperature of the Moon is 127 C.\n",
      "\n",
      "On average, the Moon moves 4cm away from the Earth every year\n",
      "The highest daylight temperature of the Moon is 127 Celsius.\n"
     ]
    }
   ],
   "source": [
    "text = \"\"\"Interesting facts about the Moon. The Moon is Earth's only satellite. There are several interesting facts about the Moon and how it affects life here on Earth. \n",
    "On average, the Moon moves 4cm away from the Earth every year. This yearly drift is not significant enough to cause immediate effects on Earth. The highest daylight temperature of the Moon is 127 C.\"\"\"\n",
    "# Dividir texto en cada oracion\n",
    "oraciones = text.split('. ')\n",
    "#palabras clave\n",
    "keywords = [\"average\",\"temperature\",\"distance\"]\n",
    "#Imprimir en bucle los datos con las palabras clave\n",
    "for item in oraciones:\n",
    "    for item2 in keywords:\n",
    "        if item2 in item:\n",
    "            print(item)\n",
    "#Actualizar el ciclo para cambiar C a Celsius\n",
    "for item in oraciones:\n",
    "    for item2 in keywords:\n",
    "        if item2 in item:\n",
    "            print(item.replace('C','Celsius'))\n"
   ]
  },
  {
   "cell_type": "markdown",
   "metadata": {},
   "source": [
    "## Ejercicio 2\n",
    "Datos a trabajar:\n",
    "name = \"Moon\"\n",
    "gravity = 0.00162 # in kms\n",
    "planet = \"Earth\""
   ]
  },
  {
   "cell_type": "code",
   "execution_count": 11,
   "metadata": {},
   "outputs": [
    {
     "name": "stdout",
     "output_type": "stream",
     "text": [
      "Facts about our Moon\n",
      "--------------------\n",
      "Planet name = Earth\n",
      "Gravity on Moon = 1.6199999999999999 m/s2\n",
      "----- Nuevos datos ------\n",
      "Facts about our Moon\n",
      "--------------------\n",
      "Planet name = Earth\n",
      "Gravity on Moon = 1.6199999999999999 m/s2\n",
      "----- Nueva plantilla ------\n",
      "----- --------------- ------\n",
      "Facts about Ganymede\n",
      "-------------------------------\n",
      "Planet name = Mars\n",
      "Gravity on Ganymede = 1.4300000000000002 m/s2\n"
     ]
    }
   ],
   "source": [
    "name = \"Moon\"\n",
    "gravity = 0.00162 # in kms\n",
    "planet = \"Earth\"\n",
    "\n",
    "#Crear el titulo\n",
    "title = f'Facts about our {name}'\n",
    "#crear plantilla de guiones\n",
    "plantilla = f\"\"\"{'-'*20}\n",
    "Planet name = {planet}\n",
    "Gravity on {name} = {gravity*1000} m/s2\"\"\"\n",
    "\n",
    "#Union de ambas cadenas\n",
    "join = f\"\"\"{title}\n",
    "{plantilla}\"\"\"\n",
    "print(join)\n",
    "\n",
    "#nuevos datos\n",
    "print(\"----- Nuevos datos ------\")\n",
    "name = \"Ganymede\"\n",
    "gravity = 0.00143\n",
    "planet = \"Mars\"\n",
    "#comprobar plantilla\n",
    "print(join)\n",
    "#nueva plantilla\n",
    "new_plantilla = \"\"\"Facts about {name}\n",
    "-------------------------------\n",
    "Planet name = {planet}\n",
    "Gravity on {name} = {gravity} m/s2\"\"\"\n",
    "#imprimir nueva plantilla\n",
    "print(\"----- Nueva plantilla ------\")\n",
    "print(\"----- --------------- ------\")\n",
    "print(new_plantilla.format(name=name,planet=planet,gravity=gravity*1000))"
   ]
  }
 ],
 "metadata": {
  "interpreter": {
   "hash": "5edb671e759554df7f96762afdd7f07c45c043ee4d5579df1f29853d82b4c0f5"
  },
  "kernelspec": {
   "display_name": "Python 3.10.2 64-bit (windows store)",
   "language": "python",
   "name": "python3"
  },
  "language_info": {
   "codemirror_mode": {
    "name": "ipython",
    "version": 3
   },
   "file_extension": ".py",
   "mimetype": "text/x-python",
   "name": "python",
   "nbconvert_exporter": "python",
   "pygments_lexer": "ipython3",
   "version": "3.10.2"
  },
  "orig_nbformat": 4
 },
 "nbformat": 4,
 "nbformat_minor": 2
}
