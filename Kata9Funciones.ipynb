{
 "cells": [
  {
   "cell_type": "markdown",
   "metadata": {},
   "source": [
    "# Kata 9\n",
    "## Ejemplos"
   ]
  },
  {
   "cell_type": "code",
   "execution_count": 8,
   "metadata": {},
   "outputs": [
    {
     "data": {
      "text/plain": [
       "'Arrival: Friday 02:57'"
      ]
     },
     "execution_count": 8,
     "metadata": {},
     "output_type": "execute_result"
    }
   ],
   "source": [
    "from datetime import timedelta, datetime\n",
    "\n",
    "def arrival_time(hours=51):\n",
    "    now = datetime.now()\n",
    "    arrival = now + timedelta(hours=hours)\n",
    "    return arrival.strftime('Arrival: %A %H:%M')\n",
    "\n",
    "arrival_time(hours=0)"
   ]
  },
  {
   "cell_type": "code",
   "execution_count": 12,
   "metadata": {},
   "outputs": [
    {
     "data": {
      "text/plain": [
       "'Moon Arrival: Sunday 06:00'"
      ]
     },
     "execution_count": 12,
     "metadata": {},
     "output_type": "execute_result"
    }
   ],
   "source": [
    "from datetime import timedelta, datetime\n",
    "\n",
    "def arrival_time(destination, hours=51):\n",
    "    now = datetime.now()\n",
    "    arrival = now + timedelta(hours=hours)\n",
    "    return arrival.strftime(f'{destination} Arrival: %A %H:%M')\n",
    "\n",
    "arrival_time('Moon')"
   ]
  },
  {
   "cell_type": "code",
   "execution_count": 15,
   "metadata": {},
   "outputs": [
    {
     "name": "stdout",
     "output_type": "stream",
     "text": [
      "()\n",
      "('one', 'two')\n",
      "(None,)\n"
     ]
    },
    {
     "data": {
      "text/plain": [
       "(None,)"
      ]
     },
     "execution_count": 15,
     "metadata": {},
     "output_type": "execute_result"
    }
   ],
   "source": [
    "def variable_length(*args):\n",
    "    print(args)\n",
    "variable_length()\n",
    "variable_length('one', 'two')\n",
    "('one', 'two')\n",
    "variable_length(None)\n",
    "(None,)"
   ]
  },
  {
   "cell_type": "code",
   "execution_count": 20,
   "metadata": {},
   "outputs": [
    {
     "data": {
      "text/plain": [
       "'Total time to launch is 1.1 hours'"
      ]
     },
     "execution_count": 20,
     "metadata": {},
     "output_type": "execute_result"
    }
   ],
   "source": [
    "def sequence_time(*args):\n",
    "    total_minutes = sum(args)\n",
    "    if total_minutes < 60:\n",
    "        return f'Total time to launch is {total_minutes} minutes'\n",
    "    else:\n",
    "        return f'Total time to launch is {total_minutes/60} hours'\n",
    "sequence_time(14, 18)\n",
    "sequence_time(4, 14, 48)"
   ]
  },
  {
   "cell_type": "code",
   "execution_count": 21,
   "metadata": {},
   "outputs": [
    {
     "name": "stdout",
     "output_type": "stream",
     "text": [
      "3 astronauts assigned for this mission:\n",
      "captain: Neil Armstrong\n",
      "pilot: Buzz Aldrin\n",
      "command_pilot: Michael Collins\n"
     ]
    }
   ],
   "source": [
    "def crew_members(**kwargs):\n",
    "    print(f'{len(kwargs)} astronauts assigned for this mission:')\n",
    "    for title, name in kwargs.items():\n",
    "        print(f'{title}: {name}')\n",
    "crew_members(captain='Neil Armstrong', pilot='Buzz Aldrin', command_pilot='Michael Collins')"
   ]
  },
  {
   "cell_type": "markdown",
   "metadata": {},
   "source": [
    "## Ejercicio 1"
   ]
  },
  {
   "cell_type": "code",
   "execution_count": 25,
   "metadata": {},
   "outputs": [
    {
     "name": "stdout",
     "output_type": "stream",
     "text": [
      "Tank 1 is 1L,\n",
      "Tank 2 is 2L.\n",
      "Tank3 is 3L\n",
      "The average of gas in the tanks is 2.0L\n"
     ]
    }
   ],
   "source": [
    "def tank_lecture(tank1, tank2, tank3):\n",
    "    avg = abs(tank1) + abs(tank2) + abs(tank3)\n",
    "    avg = avg / 3\n",
    "    return f'Tank 1 is {tank1}L,\\nTank 2 is {tank2}L.\\nTank3 is {tank3}L\\nThe average of gas in the tanks is {avg}L'\n",
    "\n",
    "print(tank_lecture(1,2,3))"
   ]
  },
  {
   "cell_type": "code",
   "execution_count": 27,
   "metadata": {},
   "outputs": [],
   "source": [
    "def average(values):\n",
    "    total = sum(values)\n",
    "    return total / len(values)"
   ]
  },
  {
   "cell_type": "code",
   "execution_count": 28,
   "metadata": {},
   "outputs": [
    {
     "name": "stdout",
     "output_type": "stream",
     "text": [
      "Tank 1 is 1L,\n",
      "Tank 2 is 2L.\n",
      "Tank3 is 3L\n",
      "The average of gas in the tanks is 2.0L\n"
     ]
    }
   ],
   "source": [
    "def tank_lecture(tank1, tank2, tank3):\n",
    "    avg = average([tank1,tank2,tank3])\n",
    "    return f'Tank 1 is {tank1}L,\\nTank 2 is {tank2}L.\\nTank3 is {tank3}L\\nThe average of gas in the tanks is {avg}L'\n",
    "\n",
    "print(tank_lecture(1,2,3))"
   ]
  },
  {
   "cell_type": "markdown",
   "metadata": {},
   "source": [
    "## Ejercicio 2"
   ]
  },
  {
   "cell_type": "code",
   "execution_count": 30,
   "metadata": {},
   "outputs": [
    {
     "name": "stdout",
     "output_type": "stream",
     "text": [
      "\n",
      "    Time to arrive = 23m\n",
      "    leftFuel = 223L\n",
      "    Destiny name = Mars\n",
      "    \n"
     ]
    }
   ],
   "source": [
    "def report(timeToArrive,leftFuel,destinyName):\n",
    "    return f\"\"\"\n",
    "    Time to arrive = {timeToArrive}mins\n",
    "    leftFuel = {leftFuel}L\n",
    "    Destiny name = {destinyName}\n",
    "    \"\"\"\n",
    "print(report(23,223,'Mars'))"
   ]
  },
  {
   "cell_type": "code",
   "execution_count": 31,
   "metadata": {},
   "outputs": [
    {
     "name": "stdout",
     "output_type": "stream",
     "text": [
      "\n",
      "    Destiny = Jupyter\n",
      "    Total travel time = 1113mins\n",
      "    Total fuel Left = 442624\n",
      "    \n"
     ]
    }
   ],
   "source": [
    "def report(destinyName,*time,**tanks):\n",
    "    return f\"\"\"\n",
    "    Destiny = {destinyName}\n",
    "    Total travel time = {sum(time)}mins\n",
    "    Total fuel Left = {sum(tanks.values())}\n",
    "    \"\"\"\n",
    "print(report('Jupyter',12,11,1090,tank1=121313,tank2=321311))"
   ]
  },
  {
   "cell_type": "code",
   "execution_count": 35,
   "metadata": {},
   "outputs": [
    {
     "name": "stdout",
     "output_type": "stream",
     "text": [
      "\n",
      "    Destiny = Jupyter\n",
      "    Total travel time = 1113mins\n",
      "    Total fuel Left = 442624\n",
      "    tank1 is 121313 litres\n",
      "tank2 is 321311 litres\n",
      "\n"
     ]
    }
   ],
   "source": [
    "def report(destinyName,*time,**tanks):\n",
    "    rprt = f\"\"\"\n",
    "    Destiny = {destinyName}\n",
    "    Total travel time = {sum(time)}mins\n",
    "    Total fuel Left = {sum(tanks.values())}\n",
    "    \"\"\"\n",
    "    for tank, litres in tanks.items():\n",
    "        rprt = rprt + f\"{tank} is {litres} litres\\n\"\n",
    "    return rprt\n",
    "print(report('Jupyter',12,11,1090,tank1=121313,tank2=321311))"
   ]
  }
 ],
 "metadata": {
  "interpreter": {
   "hash": "5edb671e759554df7f96762afdd7f07c45c043ee4d5579df1f29853d82b4c0f5"
  },
  "kernelspec": {
   "display_name": "Python 3.10.2 64-bit (windows store)",
   "language": "python",
   "name": "python3"
  },
  "language_info": {
   "codemirror_mode": {
    "name": "ipython",
    "version": 3
   },
   "file_extension": ".py",
   "mimetype": "text/x-python",
   "name": "python",
   "nbconvert_exporter": "python",
   "pygments_lexer": "ipython3",
   "version": "3.10.2"
  },
  "orig_nbformat": 4
 },
 "nbformat": 4,
 "nbformat_minor": 2
}
